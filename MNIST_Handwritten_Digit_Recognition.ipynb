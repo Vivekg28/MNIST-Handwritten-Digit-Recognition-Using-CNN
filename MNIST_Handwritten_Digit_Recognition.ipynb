{
 "cells": [
  {
   "cell_type": "markdown",
   "id": "0c85e7b8-d934-446b-a042-5f777d17f03f",
   "metadata": {},
   "source": [
    "- MNIST Handwritten Digit Recognition Using CNN"
   ]
  },
  {
   "cell_type": "code",
   "execution_count": 9,
   "id": "bffa68c1-0213-4970-a763-dbe858b7a91d",
   "metadata": {},
   "outputs": [],
   "source": [
    "# Importing Libraries\n",
    "import keras\n",
    "from keras.datasets import mnist\n",
    "from keras.models import Sequential\n",
    "from keras.layers import Dense, Dropout, Flatten\n",
    "from keras.layers import Conv2D, MaxPooling2D\n",
    "from keras import backend as K\n"
   ]
  },
  {
   "cell_type": "code",
   "execution_count": 10,
   "id": "91cf52ce-7225-419a-964f-3eef123dabdf",
   "metadata": {},
   "outputs": [
    {
     "name": "stdout",
     "output_type": "stream",
     "text": [
      "(60000, 28, 28) (60000,)\n"
     ]
    }
   ],
   "source": [
    "# the data, split between train and test sets\n",
    "(x_train, y_train), (x_test, y_test) = mnist.load_data()\n",
    "\n",
    "print(x_train.shape, y_train.shape)"
   ]
  },
  {
   "cell_type": "code",
   "execution_count": 11,
   "id": "39114b0f-7922-4a97-bf9b-33a0650450eb",
   "metadata": {},
   "outputs": [],
   "source": [
    "x_train = x_train.reshape(x_train.shape[0], 28, 28, 1)\n",
    "x_test = x_test.reshape(x_test.shape[0], 28, 28, 1)\n",
    "input_shape = (28, 28, 1)"
   ]
  },
  {
   "cell_type": "code",
   "execution_count": 12,
   "id": "84a673f0-1f15-478a-b626-16a150c13c83",
   "metadata": {},
   "outputs": [
    {
     "name": "stdout",
     "output_type": "stream",
     "text": [
      "x_train shape: (60000, 28, 28, 1)\n",
      "60000 train samples\n",
      "10000 test samples\n",
      "Epoch 1/10\n",
      "469/469 [==============================] - 22s 45ms/step - loss: 2.3069 - accuracy: 0.0887 - val_loss: 2.2967 - val_accuracy: 0.0943\n",
      "Epoch 2/10\n",
      "469/469 [==============================] - 22s 47ms/step - loss: 2.2952 - accuracy: 0.1088 - val_loss: 2.2845 - val_accuracy: 0.1195\n",
      "Epoch 3/10\n",
      "469/469 [==============================] - 20s 43ms/step - loss: 2.2839 - accuracy: 0.1295 - val_loss: 2.2723 - val_accuracy: 0.1958\n",
      "Epoch 4/10\n",
      "469/469 [==============================] - 25s 52ms/step - loss: 2.2727 - accuracy: 0.1505 - val_loss: 2.2599 - val_accuracy: 0.2825\n",
      "Epoch 5/10\n",
      "469/469 [==============================] - 23s 50ms/step - loss: 2.2620 - accuracy: 0.1715 - val_loss: 2.2471 - val_accuracy: 0.3498\n",
      "Epoch 6/10\n",
      "469/469 [==============================] - 19s 39ms/step - loss: 2.2507 - accuracy: 0.1897 - val_loss: 2.2332 - val_accuracy: 0.4051\n",
      "Epoch 7/10\n",
      "469/469 [==============================] - 18s 38ms/step - loss: 2.2378 - accuracy: 0.2136 - val_loss: 2.2178 - val_accuracy: 0.4559\n",
      "Epoch 8/10\n",
      "469/469 [==============================] - 20s 43ms/step - loss: 2.2241 - accuracy: 0.2299 - val_loss: 2.2007 - val_accuracy: 0.4990\n",
      "Epoch 9/10\n",
      "469/469 [==============================] - 19s 41ms/step - loss: 2.2090 - accuracy: 0.2449 - val_loss: 2.1817 - val_accuracy: 0.5310\n",
      "Epoch 10/10\n",
      "469/469 [==============================] - 18s 38ms/step - loss: 2.1924 - accuracy: 0.2618 - val_loss: 2.1604 - val_accuracy: 0.5544\n",
      "The model has successfully trained\n",
      "Test loss: 2.1604199409484863\n",
      "Test accuracy: 0.5544000267982483\n",
      "Saving the model as mnist.h5\n"
     ]
    }
   ],
   "source": [
    "# Model\n",
    "y_train = keras.utils.to_categorical(y_train, 10)\n",
    "y_test = keras.utils.to_categorical(y_test, 10)\n",
    "\n",
    "x_train = x_train.astype('float32')\n",
    "x_test = x_test.astype('float32')\n",
    "x_train /= 255\n",
    "x_test /= 255\n",
    "print('x_train shape:', x_train.shape)\n",
    "print(x_train.shape[0], 'train samples')\n",
    "print(x_test.shape[0], 'test samples')\n",
    "\n",
    "batch_size = 128\n",
    "num_classes = 10\n",
    "epochs = 10\n",
    "\n",
    "model = Sequential()\n",
    "model.add(Conv2D(32, kernel_size=(5, 5),activation='relu',input_shape=input_shape))\n",
    "model.add(MaxPooling2D(pool_size=(2, 2)))\n",
    "model.add(Conv2D(64, (3, 3), activation='relu'))\n",
    "model.add(MaxPooling2D(pool_size=(2, 2)))\n",
    "model.add(Flatten())\n",
    "model.add(Dense(128, activation='relu'))\n",
    "model.add(Dropout(0.3))\n",
    "model.add(Dense(64, activation='relu'))\n",
    "model.add(Dropout(0.5))\n",
    "model.add(Dense(num_classes, activation='softmax'))\n",
    "\n",
    "model.compile(loss=keras.losses.categorical_crossentropy,optimizer=keras.optimizers.Adadelta(),metrics=['accuracy'])\n",
    "\n",
    "hist = model.fit(x_train, y_train,batch_size=batch_size,epochs=epochs,verbose=1,validation_data=(x_test, y_test))\n",
    "print(\"The model has successfully trained\")\n",
    "\n",
    "score = model.evaluate(x_test, y_test, verbose=0)\n",
    "print('Test loss:', score[0])\n",
    "print('Test accuracy:', score[1])\n",
    "\n",
    "model.save('mnist.h5')\n",
    "print(\"Saving the model as mnist.h5\")"
   ]
  },
  {
   "cell_type": "code",
   "execution_count": null,
   "id": "c9641806-f95b-4e00-9728-86b88e8074fa",
   "metadata": {},
   "outputs": [],
   "source": []
  }
 ],
 "metadata": {
  "kernelspec": {
   "display_name": "Python 3 (ipykernel)",
   "language": "python",
   "name": "python3"
  },
  "language_info": {
   "codemirror_mode": {
    "name": "ipython",
    "version": 3
   },
   "file_extension": ".py",
   "mimetype": "text/x-python",
   "name": "python",
   "nbconvert_exporter": "python",
   "pygments_lexer": "ipython3",
   "version": "3.10.13"
  }
 },
 "nbformat": 4,
 "nbformat_minor": 5
}
